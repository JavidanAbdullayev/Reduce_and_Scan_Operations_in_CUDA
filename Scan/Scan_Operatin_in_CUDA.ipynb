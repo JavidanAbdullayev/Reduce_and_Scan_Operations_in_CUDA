{
  "nbformat": 4,
  "nbformat_minor": 0,
  "metadata": {
    "colab": {
      "name": "Scan_Operatin_in_CUDA.ipynb",
      "provenance": [],
      "collapsed_sections": []
    },
    "kernelspec": {
      "name": "python3",
      "display_name": "Python 3"
    },
    "accelerator": "GPU"
  },
  "cells": [
    {
      "cell_type": "code",
      "metadata": {
        "colab": {
          "base_uri": "https://localhost:8080/"
        },
        "id": "c4Im4KlaVX2T",
        "outputId": "99f33466-9c5a-4fcb-9f9d-12b398118a8a"
      },
      "source": [
        "!pip install git+git://github.com/andreinechaev/nvcc4jupyter.git"
      ],
      "execution_count": null,
      "outputs": [
        {
          "output_type": "stream",
          "text": [
            "Collecting git+git://github.com/andreinechaev/nvcc4jupyter.git\n",
            "  Cloning git://github.com/andreinechaev/nvcc4jupyter.git to /tmp/pip-req-build-joj1pcxy\n",
            "  Running command git clone -q git://github.com/andreinechaev/nvcc4jupyter.git /tmp/pip-req-build-joj1pcxy\n",
            "Building wheels for collected packages: NVCCPlugin\n",
            "  Building wheel for NVCCPlugin (setup.py) ... \u001b[?25l\u001b[?25hdone\n",
            "  Created wheel for NVCCPlugin: filename=NVCCPlugin-0.0.2-cp37-none-any.whl size=4307 sha256=213d290f802b04ffab32d6894e75694bfdf512e825139868f298c0b342cf3760\n",
            "  Stored in directory: /tmp/pip-ephem-wheel-cache-4t6nnhc3/wheels/10/c2/05/ca241da37bff77d60d31a9174f988109c61ba989e4d4650516\n",
            "Successfully built NVCCPlugin\n",
            "Installing collected packages: NVCCPlugin\n",
            "Successfully installed NVCCPlugin-0.0.2\n"
          ],
          "name": "stdout"
        }
      ]
    },
    {
      "cell_type": "code",
      "metadata": {
        "colab": {
          "base_uri": "https://localhost:8080/"
        },
        "id": "V1YkHZjbVeWg",
        "outputId": "991625df-33f7-4d84-883d-6a21c9e920ec"
      },
      "source": [
        "%load_ext nvcc_plugin"
      ],
      "execution_count": null,
      "outputs": [
        {
          "output_type": "stream",
          "text": [
            "created output directory at /content/src\n",
            "Out bin /content/result.out\n"
          ],
          "name": "stdout"
        }
      ]
    },
    {
      "cell_type": "markdown",
      "metadata": {
        "id": "uo_ysEFugC-P"
      },
      "source": [
        "# Scan operation in CPU"
      ]
    },
    {
      "cell_type": "code",
      "metadata": {
        "colab": {
          "base_uri": "https://localhost:8080/"
        },
        "id": "xT2gh2Lgd3Qz",
        "outputId": "58837dfc-86ad-4caa-a67f-877aef54712a"
      },
      "source": [
        "%%cu\n",
        "#include <iostream>\n",
        "\n",
        "#define N 8\n",
        "\n",
        "using namespace std;\n",
        "\n",
        "void scan( float* output, float* input, int length)\n",
        "{\n",
        "  output[0] = input[0]; // # since this is a prescan, not a scan\n",
        "  cout <<\"output is \"<< output[0] << \" \" ;\n",
        "  for(int j = 1; j < length; ++j){\n",
        "    output[j] = input[j] + output[j-1];\n",
        "    cout << output[j] << \" \" ;\n",
        "  }\n",
        "}\n",
        "\n",
        "\n",
        "int main()\n",
        "{\n",
        "    float input[5] ;\n",
        "    float output[5] ;\n",
        "    cout <<\"input is \" ;\n",
        "    for (int i=0;i<=4;i++)\n",
        "    {\n",
        "        input[i] = i+1 ;\n",
        "        cout<<  input[i] << \" \" ;\n",
        "    }\n",
        "    cout<<endl ;\n",
        "    scan(  output, input, 5);\n",
        "    return 0;\n",
        "}"
      ],
      "execution_count": 22,
      "outputs": [
        {
          "output_type": "stream",
          "text": [
            "input is 1 2 3 4 5 \n",
            "output is 1 3 6 10 15 \n"
          ],
          "name": "stdout"
        }
      ]
    },
    {
      "cell_type": "markdown",
      "metadata": {
        "id": "bW4Y729CgGH6"
      },
      "source": [
        "# Scan Operation in GPU"
      ]
    },
    {
      "cell_type": "code",
      "metadata": {
        "colab": {
          "base_uri": "https://localhost:8080/"
        },
        "id": "PUHTtIuBgAs7",
        "outputId": "35c9f8dc-8fe2-4377-8188-62e7a0c855a2"
      },
      "source": [
        "%%cu\n",
        "#include <cuda.h>\n",
        "#include <cuda_runtime.h>\n",
        "#include <device_launch_parameters.h>\n",
        "#include <cuda_runtime_api.h>\n",
        "#include <algorithm>\n",
        "#include <cassert>\n",
        "#include <cstdlib>\n",
        "#include <time.h>\n",
        "#include <iostream>\n",
        "#include \"device_launch_parameters.h\"\n",
        "\n",
        "#define N 8\n",
        "\n",
        "\n",
        "using namespace std;\n",
        "\n",
        "__global__ void scan(int *g_odata, int *g_idata, int n)\n",
        "{\n",
        "  extern __shared__ int temp[]; // allocated on invocation\n",
        "  int thid = threadIdx.x;\n",
        "  // load input into shared memory.\n",
        "  temp[thid] =  g_idata[thid] ;\n",
        "  __syncthreads();\n",
        "  for ( int offset = 1; offset < n; offset = offset*2 ){\n",
        "\n",
        "    if (thid >= offset){\n",
        "        int t = temp[thid - offset];\n",
        "        __syncthreads();\n",
        "        temp[thid] += t;\n",
        "        __syncthreads();\n",
        "        \n",
        "    }\n",
        "\n",
        "  }\n",
        "  g_odata[thid] = temp[thid]; // # write output\n",
        "}\n",
        "\n",
        "\n",
        "\n",
        "\n",
        "int main()\n",
        "{\n",
        "   \n",
        "    size_t bytes_in = sizeof(int) * N;\n",
        "    int out_size = N ; \n",
        "    size_t bytes_out = sizeof(int) * out_size;\n",
        "    srand(time(NULL));\n",
        "    // Vectors for holding the host-side (CPU-side) data\n",
        "    int* h_a, *d_a, * d_c, *h_c;\n",
        "\n",
        "    // Allocate pinned memory\n",
        "    cudaMallocHost(&h_a, bytes_in);\n",
        "    cudaMallocHost(&h_c, bytes_out);\n",
        "\n",
        "    // Initialize random numbers in each array\n",
        "    for (int i = 0; i < N; i++) {\n",
        "        h_a[i] = rand() % 10;   \n",
        "    }\n",
        "    cout << \"values of array a \" << endl;\n",
        "    for (int i = 0; i < N; i++)\n",
        "    { \n",
        "        cout  << h_a[i] << \" \";\n",
        "        \n",
        "    }\n",
        " \n",
        "    cout << endl << \"----------------- \"<<endl ;\n",
        "\n",
        "    // Allocate memory on the device\n",
        "   \n",
        "    cudaMalloc(&d_a, bytes_in);\n",
        "    cudaMalloc(&d_c, bytes_out);\n",
        "\n",
        "    // Copy data from the host to the device (CPU -> GPU)\n",
        "    cudaMemcpy(d_a, h_a, bytes_in, cudaMemcpyHostToDevice);\n",
        "    \n",
        "      scan<<<1,N,bytes_out>>>(d_c, d_a,N) ;\n",
        "    cudaMemcpy(h_c, d_c, bytes_out, cudaMemcpyDeviceToHost);\n",
        "    \n",
        "    cout << endl << \"values of array c \" << endl;\n",
        "    for (int i = 0; i < N; i++)\n",
        "    {\n",
        "\n",
        "        cout << h_c[i] << \" \";\n",
        "        \n",
        "    }\n",
        "\n",
        "\n",
        "    // Free pinned memory\n",
        "    cudaFreeHost(h_a);\n",
        "    cudaFreeHost(h_c);\n",
        "\n",
        "    // Free memory on device\n",
        "    cudaFree(d_a);\n",
        "    cudaFree(d_c);\n",
        "\n",
        "    cout << endl<< \"\\nCOMPLETED SUCCESSFULLY\\n\";\n",
        "\n",
        "    return 0;\n",
        "\n",
        "}"
      ],
      "execution_count": 25,
      "outputs": [
        {
          "output_type": "stream",
          "text": [
            "values of array a \n",
            "6 7 9 1 5 4 4 7 \n",
            "----------------- \n",
            "\n",
            "values of array c \n",
            "6 13 22 23 28 32 36 43 \n",
            "\n",
            "COMPLETED SUCCESSFULLY\n",
            "\n"
          ],
          "name": "stdout"
        }
      ]
    },
    {
      "cell_type": "code",
      "metadata": {
        "id": "5A9YmlP8gd8Q"
      },
      "source": [
        ""
      ],
      "execution_count": null,
      "outputs": []
    }
  ]
}